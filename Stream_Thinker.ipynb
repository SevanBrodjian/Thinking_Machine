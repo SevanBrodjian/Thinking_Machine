{
 "cells": [
  {
   "cell_type": "code",
   "execution_count": 18,
   "metadata": {},
   "outputs": [],
   "source": [
    "import openai\n",
    "import os\n",
    "from tqdm import tqdm\n",
    "openai.api_key = os.getenv(\"OPENAI_API_KEY\")"
   ]
  },
  {
   "cell_type": "code",
   "execution_count": 4,
   "metadata": {},
   "outputs": [],
   "source": [
    "def get_last_15_words(text):\n",
    "    words = text.split()\n",
    "    last_15_words = \" \".join(words[-15:])\n",
    "    return last_15_words"
   ]
  },
  {
   "cell_type": "code",
   "execution_count": 33,
   "metadata": {},
   "outputs": [],
   "source": [
    "start_prompt = \"Think about what research fields would be a good fit for you for PhD and why.\\n\"\n",
    "thought = openai.Completion.create(model=\"davinci:ft-personal-2023-06-03-21-52-43\", prompt=start_prompt, temperature=0.5, max_tokens=75)[\"choices\"][0][\"text\"]\n",
    "thoughts = [thought]"
   ]
  },
  {
   "cell_type": "code",
   "execution_count": 34,
   "metadata": {},
   "outputs": [
    {
     "name": "stderr",
     "output_type": "stream",
     "text": [
      "100%|██████████| 15/15 [00:58<00:00,  3.89s/it]\n"
     ]
    }
   ],
   "source": [
    "for _ in tqdm(range(15)):\n",
    "    message=[\n",
    "        {\"role\": \"user\", \"content\": \"\"\"The following text enclosed in carrot brackets <> is a snippet of a stream of consciousness. Consider what the user is thinking about, and please produce a brief sentence written as an instruction that would cause the user to continue thinking, possibly with a slight change of topic to give direction to the thoughts. For example, your sentence could be formatted as \"Think about ...\", format your response as just this sentence and nothing else.\\n\\n<\"\"\" + thought + \">\"}\n",
    "    ]\n",
    "    prompt = openai.ChatCompletion.create(model=\"gpt-4\", messages=message)[\"choices\"][0][\"message\"][\"content\"]\n",
    "    prompt += \" Here's where your thoughts left off, continue it': \" + get_last_15_words(thought)\n",
    "    thought = openai.Completion.create(model=\"davinci:ft-personal-2023-06-03-21-52-43\", prompt=prompt, temperature=0.5, max_tokens=75)[\"choices\"][0][\"text\"]\n",
    "    thoughts.append(thought)"
   ]
  },
  {
   "cell_type": "code",
   "execution_count": 35,
   "metadata": {},
   "outputs": [],
   "source": [
    "combined_string = \" \".join(thoughts)\n",
    "with open(\"results/output.txt\", \"w\", encoding=\"utf-8\") as file:\n",
    "    file.truncate()\n",
    "    file.write(\"Start Prompt: \" + start_prompt + \"\\n\")\n",
    "    file.write(combined_string)"
   ]
  }
 ],
 "metadata": {
  "kernelspec": {
   "display_name": "Python 3",
   "language": "python",
   "name": "python3"
  },
  "language_info": {
   "codemirror_mode": {
    "name": "ipython",
    "version": 3
   },
   "file_extension": ".py",
   "mimetype": "text/x-python",
   "name": "python",
   "nbconvert_exporter": "python",
   "pygments_lexer": "ipython3",
   "version": "3.9.12"
  },
  "orig_nbformat": 4
 },
 "nbformat": 4,
 "nbformat_minor": 2
}
