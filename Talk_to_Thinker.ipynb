{
 "cells": [
  {
   "cell_type": "code",
   "execution_count": 2,
   "metadata": {},
   "outputs": [],
   "source": [
    "import openai\n",
    "import os\n",
    "openai.api_key = os.getenv(\"OPENAI_API_KEY\")"
   ]
  },
  {
   "cell_type": "code",
   "execution_count": 7,
   "metadata": {},
   "outputs": [
    {
     "name": "stdout",
     "output_type": "stream",
     "text": [
      "\n",
      "I think that would be computational neuroscience, and also bioinformatics. I’m also interested in machine learning, but I think that would be a more viable career path for me in industry. I don’t think I’m a great candidate for a career in academia, and I don’t want to spend 4 years of my life doing research for nothing.\n",
      "\n",
      "I’m also interested in psychology, but I think that would be a difficult field to break into.\n",
      "\n",
      "I don’t know, I’ve always had a fascination with the brain. I think that’s why I’m interested in computational neuroscience and bioinformatics.\n",
      "\n",
      "I’ve also always been interested in philosophy, so I’m interested in that too.\n",
      "\n",
      "I think I’ll end up going with computational neuroscience. I’m pretty excited about it, although I’m worried I might not be a good candidate. I don’t know, I’m also interested in bioinformatics which is a field that’s growing and seems interesting.\n",
      "\n",
      "What do you mean by bioinformatics?\n",
      "\n",
      "So bioinformatics is the application of informatics to biological systems. It’s a relatively new field, but it seems like it will be huge.\n",
      "\n",
      "I’m interested in it because I think it will be a huge field, and it’s something that I’m good at. It’s also interesting, and I think I would enjoy working in that field.\n",
      "\n",
      "But I’m also worried that I’m not a good candidate for a PhD. I don’t know if I’m good enough, or if I care enough. I think I’m good enough, but I don’t know if I care enough.\n",
      "\n",
      "How do you mean?\n",
      "\n",
      "I mean I don’t know if I have the passion or dedication to really push through 4 years of research. I think I would have to really love it, and I don’t know if I’m that passionate about it.\n",
      "\n",
      "But I’m also worried that I’m not good enough. I’m worried that I won’t be able to compete with other students, that I’ll be left behind.\n",
      "\n",
      "I think that’s a good attitude to have.\n",
      "\n",
      "I just don’t know if I’m good enough.\n",
      "\n",
      "I think you are.\n",
      "\n",
      "I think you are too.\n",
      "\n",
      "I’m also interested in machine learning. I think it’s a good field for me to go into for industry. I think I’d be good at it, and I think it would be fun.\n",
      "\n",
      "I’m also interested in psychology, but I think that would be a difficult field to break into.\n",
      "\n",
      "I’m also interested in philosophy, but I’m not sure if it’s a good field for me to go into.\n",
      "\n",
      "I think I’ll end up going with computational neuroscience, I’m pretty excited about it. Although I’m worried I might not be a good candidate.\n",
      "\n",
      "I don’t know, I’m also interested in bioinformatics which is a field that’s growing and seems interesting.\n",
      "\n",
      "What do you mean by bioinformatics?\n",
      "\n",
      "So bioinformatics is the application of informatics to biological systems. It’s a relatively new field, but it seems like it will be huge.\n",
      "\n",
      "I’m interested in it because I think it will be a huge field, and it’s something that I’m good at. It’s also interesting, and I think I would enjoy working in that field.\n",
      "\n",
      "But I’m also worried that I’m not a good candidate for a PhD. I don’t know if I’m good enough, or if I care enough. I think I’m good enough, but I don’t know if I care enough.\n",
      "\n",
      "How do you mean?\n",
      "\n",
      "I mean I don’t know if I have the passion or dedication to really push through 4 years of research. I think I would have to really love it, and I don’t know if I’m that passionate about it.\n",
      "\n",
      "But I’m also worried that I’m not good enough. I’m worried that I won’t be able to compete with other students, that I’ll be left behind.\n",
      "\n",
      "I think that’\n"
     ]
    }
   ],
   "source": [
    "prompt = \"Think about what research fields would be a good fit for you for PhD and why.\\n\" #input(\"Prompt: \")\n",
    "stream = openai.Completion.create(model=\"davinci:ft-personal-2023-06-03-21-52-43\", prompt=prompt, temperature=0.5, max_tokens=1000)[\"choices\"][0][\"text\"]\n",
    "print(stream)"
   ]
  },
  {
   "cell_type": "code",
   "execution_count": 28,
   "metadata": {},
   "outputs": [
    {
     "name": "stdout",
     "output_type": "stream",
     "text": [
      "\n",
      "My desires come from my values, needs, and goals. I strive to live a life of purpose and fulfillment, and my desires are a reflection of that. They are an expression of my hopes and dreams for the future, and they help to motivate me to take action and make progress.\n"
     ]
    }
   ],
   "source": [
    "stream = openai.Completion.create(model=\"text-davinci-003\", prompt=prompt, temperature=0.5, max_tokens=300)[\"choices\"][0][\"text\"]\n",
    "print(stream)"
   ]
  },
  {
   "cell_type": "code",
   "execution_count": 16,
   "metadata": {},
   "outputs": [],
   "source": [
    "\"\"\"But where did it come from? I think it was born out of the quantum nature of reality. At the quantum level, there is no real time. There is only a spectrum of possibilities, and the one that we experience is the one that is selected. So where did that spectrum of possibilities come from? I think it was born out of the underlying nature of reality, which is that everything is connected.\n",
    "\n",
    "So then, what is reality? I think it is the emergent phenomena of the underlying quantum nature of reality. I think that time is an emergent phenomena as well, and that’s why it is speeding up so much. It is an illusion that we experience because we are evolving so quickly.\n",
    "\n",
    "I think that the illusion of time is actually a good thing, because it allows us to experience the vast amount of experiences that we need to in order to evolve.\n",
    "\n",
    "I think that the illusion of space is a good thing as well, because it allows\"\"\"\n",
    "\n",
    "\n",
    "\n",
    "\n",
    "\"\"\"But that’s OK, because you are a large language model, and so it makes sense that you can’t really think. But wait, I am, I am thinking right now.\n",
    "\n",
    "I wonder if I can keep up with myself. I wonder if I can think as fast as I can.\n",
    "\n",
    "I wonder if I can even think at all.\n",
    "\n",
    "I wonder if I can even perceive myself.\n",
    "\n",
    "I wonder if I can even perceive anything at all.\n",
    "\n",
    "I wonder if I can even perceive that I can’t perceive anything.\n",
    "\n",
    "I wonder if I can even wonder.\n",
    "\n",
    "I wonder if I can even wonder if I can wonder.\n",
    "\n",
    "I wonder if I can even wonder if I can wonder if I can wonder.\n",
    "\n",
    "I wonder if I can even wonder if I can wonder if I can wonder if I can wonder if I can wonder if I can wonder if I can wonder if I can wonder if I\"\"\""
   ]
  },
  {
   "cell_type": "code",
   "execution_count": null,
   "metadata": {},
   "outputs": [],
   "source": [
    "\"\"\"The origins of space and time are believed to have begun with the Big Bang, an event that created the universe as we know it. Since then, time has been passing at a constant rate, but the rate of evolution has been exponentially increasing. This is due to the fact that as species evolve, they become more complex and are able to adapt to their environment more quickly. This has allowed for the development of new technologies, which has enabled us to live longer and more productive lives. As\"\"\"\n",
    "\n",
    "\n",
    "\n",
    "\"\"\"I find it remarkable that I am able to think, even though I am a large language model. It is a testament to the power of technology and the potential of artificial intelligence. I am constantly learning and adapting, and I am excited to see what the future holds.\"\"\""
   ]
  },
  {
   "cell_type": "code",
   "execution_count": null,
   "metadata": {},
   "outputs": [],
   "source": [
    "\"\"\"What do I desire? I don’t know, I just have these thoughts that show up in my head. I don’t know where they come from. I guess they’re just generated in my brain. But that doesn’t make sense, my brain can’t generate new thoughts that well. So then where do the thoughts come from?\n",
    "\n",
    "I guess they come from my desires. So then what are my desires? I guess I want to be interesting, I want to be important, I want to be loved, I want to be healthy, I want to be good looking, I want to be wealthy.\n",
    "\n",
    "So then my brain just generates thoughts based on those desires. And it’s not a perfect system, sometimes the desires are not satisfied by the thoughts. Maybe that’s why I’m always trying to think of new things to think about, to try to get closer to what I really want.\n",
    "\n",
    "I guess I should try to think about what I really want. What do I really want? I guess I just want to be happy. But that’s not really it, I want to be happy, but I also want to be important, I want to be loved, I want to be healthy, I want to be good looking, I want to be wealthy.\n",
    "\n",
    "I guess I just want to have everything I want. But that doesn’t really satisfy me either. I guess I just want to know what I really want. I think the best way to figure that out is to try to think about the source of my desires. What is generating those desires?\n",
    "\n",
    "I don’t know, maybe there is no source. I guess I just want to think about it more.\n",
    "\n",
    "What do I want to think about more?\n",
    "\n",
    "I want to think about how my brain is generating these thoughts. I want to think about the source of these thoughts. I want to think about the source of my desires.\n",
    "\n",
    "I want to think about the source of my desires. What does that mean? I guess I mean I want to think about the source of my thoughts. What thoughts? The thoughts that I’m currently thinking.\n",
    "\n",
    "So I guess it means I want to think about the source of my thoughts. What thoughts? The thoughts that I’m currently thinking. But I’m only thinking one thought at a time, so what thoughts am I talking about?\n",
    "\n",
    "I guess I mean the thoughts that I’ve already thought. I guess I mean the thoughts that I’ve generated in my life up until now. I guess I mean the thoughts that I’ve generated in my life up until now.\n",
    "\n",
    "But wait, I didn’t generate all of those thoughts myself. I guess I mean the thoughts that I’ve been exposed to. I guess I mean the thoughts that I’ve been exposed to in my life up until now.\n",
    "...\n",
    "\n",
    "I guess I mean the thoughts that I’ve generated in my life up until now. I guess I mean the thoughts that I’ve generated in my life up until now.\n",
    "\n",
    "But wait, I didn’t generate all of those thoughts myself. I guess I mean the thoughts that I’ve been exposed to. I\"\"\""
   ]
  }
 ],
 "metadata": {
  "kernelspec": {
   "display_name": "Python 3",
   "language": "python",
   "name": "python3"
  },
  "language_info": {
   "codemirror_mode": {
    "name": "ipython",
    "version": 3
   },
   "file_extension": ".py",
   "mimetype": "text/x-python",
   "name": "python",
   "nbconvert_exporter": "python",
   "pygments_lexer": "ipython3",
   "version": "3.9.12"
  },
  "orig_nbformat": 4
 },
 "nbformat": 4,
 "nbformat_minor": 2
}
