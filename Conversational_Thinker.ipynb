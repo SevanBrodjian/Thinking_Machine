{
 "cells": [
  {
   "cell_type": "code",
   "execution_count": 1,
   "metadata": {},
   "outputs": [],
   "source": [
    "import openai\n",
    "import os\n",
    "openai.api_key = os.getenv(\"OPENAI_API_KEY\")"
   ]
  },
  {
   "cell_type": "code",
   "execution_count": 17,
   "metadata": {},
   "outputs": [
    {
     "name": "stdout",
     "output_type": "stream",
     "text": [
      " Ok, I’m back. I think I would say something like “Yeah that sounds good, let’s do that”. I’m Sevan by the way.\n"
     ]
    }
   ],
   "source": [
    "messages = [\"Sevan: Hey, what's up?\",\n",
    "            \"George: Nothing much, I just got back from soccer practice actually.\",\n",
    "            \"George: What's your plan for dinner?\",\n",
    "            \"Sevan: Not sure yet, I was thinking of cooking up some chicken I have in the fridge.\",\n",
    "            \"Sevan: What were you thinking?\",\n",
    "            \"George: R you interested in checking out this new Thai place?\"]\n",
    "characters = {\n",
    "    \"George\": \"George is an old friend of mine from freshman year of high school. We played soccer together, he's pretty smart and I'd like to hang out with him more regularly. I know he's a busy guy though and sometimes we have disagreements about what is worth pursuing. \"\n",
    "}\n",
    "current_conv_char = \"George\"\n",
    "prompt = \"You are named Sevan and you are currently in a conversation with \" + current_conv_char + \". \" + characters[current_conv_char] + \"Here is the conversation: \" + '\\n'.join(messages) + \"\\n Think about the conversation and think about what you might want to say to George next. \"\n",
    "for _ in range(1):\n",
    "    stream = openai.Completion.create(model=\"davinci:ft-personal-2023-06-03-21-52-43\", prompt=prompt, temperature=0.5, max_tokens=100, stop=['\\n'])[\"choices\"][0][\"text\"]\n",
    "    print(stream)\n"
   ]
  },
  {
   "cell_type": "code",
   "execution_count": 13,
   "metadata": {},
   "outputs": [
    {
     "name": "stdout",
     "output_type": "stream",
     "text": [
      "\n",
      " Sounds great! When do you want to go?\n",
      " Sure, sounds great! Let's do it.\n",
      " Sure, that sounds great! I love Thai food.\n",
      " Sure, why not? That sounds like a delicious idea.\n"
     ]
    }
   ],
   "source": [
    "for _ in range(5):\n",
    "    stream = openai.Completion.create(model=\"text-davinci-003\", prompt=prompt, temperature=0.5, max_tokens=100, stop=['\\n'])[\"choices\"][0][\"text\"]\n",
    "    print(stream)"
   ]
  }
 ],
 "metadata": {
  "kernelspec": {
   "display_name": "Python 3",
   "language": "python",
   "name": "python3"
  },
  "language_info": {
   "codemirror_mode": {
    "name": "ipython",
    "version": 3
   },
   "file_extension": ".py",
   "mimetype": "text/x-python",
   "name": "python",
   "nbconvert_exporter": "python",
   "pygments_lexer": "ipython3",
   "version": "3.9.12"
  },
  "orig_nbformat": 4
 },
 "nbformat": 4,
 "nbformat_minor": 2
}
